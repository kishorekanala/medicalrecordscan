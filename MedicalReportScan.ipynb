{
  "nbformat": 4,
  "nbformat_minor": 0,
  "metadata": {
    "colab": {
      "name": "MedicalReportScan.ipynb",
      "provenance": [],
      "authorship_tag": "ABX9TyPrDcGPxEAJ4TtUOPqKTloW",
      "include_colab_link": true
    },
    "kernelspec": {
      "name": "python3",
      "display_name": "Python 3"
    }
  },
  "cells": [
    {
      "cell_type": "markdown",
      "metadata": {
        "id": "view-in-github",
        "colab_type": "text"
      },
      "source": [
        "<a href=\"https://colab.research.google.com/github/kishorekanala/medicalrecordscan/blob/main/MedicalReportScan.ipynb\" target=\"_parent\"><img src=\"https://colab.research.google.com/assets/colab-badge.svg\" alt=\"Open In Colab\"/></a>"
      ]
    },
    {
      "cell_type": "code",
      "metadata": {
        "colab": {
          "base_uri": "https://localhost:8080/"
        },
        "id": "x9mJf41jyYTg",
        "outputId": "6891eea4-98ae-4586-855e-704746132c15"
      },
      "source": [
        "print(\"Kishore\")"
      ],
      "execution_count": 1,
      "outputs": [
        {
          "output_type": "stream",
          "text": [
            "Kishore\n"
          ],
          "name": "stdout"
        }
      ]
    }
  ]
}